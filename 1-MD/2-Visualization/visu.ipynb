{
 "cells": [
  {
   "cell_type": "code",
   "execution_count": 1,
   "id": "cf69eb47-29c1-4022-8811-6ed6d5211175",
   "metadata": {},
   "outputs": [
    {
     "data": {
      "application/vnd.jupyter.widget-view+json": {
       "model_id": "551cc6cbf8dc48ce838424a8b1f37ba5",
       "version_major": 2,
       "version_minor": 0
      },
      "text/plain": []
     },
     "metadata": {},
     "output_type": "display_data"
    }
   ],
   "source": [
    "import nglview as nv"
   ]
  },
  {
   "cell_type": "code",
   "execution_count": 2,
   "id": "200049f8-5bd1-457c-a3b1-2c708f907772",
   "metadata": {},
   "outputs": [],
   "source": [
    "from MDAnalysis import Universe"
   ]
  },
  {
   "cell_type": "code",
   "execution_count": 3,
   "id": "0ed96ce8-c6ad-4e95-91cd-e0c3ffba046e",
   "metadata": {},
   "outputs": [
    {
     "data": {
      "application/vnd.jupyter.widget-view+json": {
       "model_id": "ade21c8e281e42589fd8104e39e58e9a",
       "version_major": 2,
       "version_minor": 0
      },
      "text/plain": [
       "NGLWidget(max_frame=1000)"
      ]
     },
     "metadata": {},
     "output_type": "display_data"
    }
   ],
   "source": [
    "mda_traj = Universe(\"../1-SPCE_343-H2O/topology.pdb\", \"../1-SPCE_343-H2O/traj.xyz\")\n",
    "mda_view = nv.show_mdanalysis(mda_traj)\n",
    "mda_view"
   ]
  }
 ],
 "metadata": {
  "kernelspec": {
   "display_name": "Python 3.7.12 ('lammps')",
   "language": "python",
   "name": "python3"
  },
  "language_info": {
   "codemirror_mode": {
    "name": "ipython",
    "version": 3
   },
   "file_extension": ".py",
   "mimetype": "text/x-python",
   "name": "python",
   "nbconvert_exporter": "python",
   "pygments_lexer": "ipython3",
   "version": "3.7.12"
  },
  "vscode": {
   "interpreter": {
    "hash": "37ba7e5c9582a9f421b36d7e546558219787a40efd52e9ce605c383361a6fbf8"
   }
  }
 },
 "nbformat": 4,
 "nbformat_minor": 5
}
