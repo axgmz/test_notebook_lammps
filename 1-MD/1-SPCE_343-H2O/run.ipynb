{
 "cells": [
  {
   "cell_type": "markdown",
   "id": "5e044597-9cb0-48dc-a701-30ce12be4364",
   "metadata": {
    "tags": []
   },
   "source": [
    "# Run Lammps"
   ]
  },
  {
   "cell_type": "code",
   "execution_count": 1,
   "id": "37c002b8-5eec-4b64-9cac-481b8e6d9a9f",
   "metadata": {},
   "outputs": [],
   "source": [
    "from lammps import lammps"
   ]
  },
  {
   "cell_type": "code",
   "execution_count": 2,
   "id": "a7eeeb76-d9e9-44c0-afc6-97b7f247fc88",
   "metadata": {},
   "outputs": [],
   "source": [
    "args = [\"-screen\", \"none\"]\n",
    "\n",
    "lmp = lammps(cmdargs=args)"
   ]
  },
  {
   "cell_type": "code",
   "execution_count": 3,
   "id": "a9c8a51f-17fc-40e3-bd13-66516fb050f1",
   "metadata": {},
   "outputs": [],
   "source": [
    "lmp.file(\"in.water\")"
   ]
  }
 ],
 "metadata": {
  "kernelspec": {
   "display_name": "Python 3 (ipykernel)",
   "language": "python",
   "name": "python3"
  },
  "language_info": {
   "codemirror_mode": {
    "name": "ipython",
    "version": 3
   },
   "file_extension": ".py",
   "mimetype": "text/x-python",
   "name": "python",
   "nbconvert_exporter": "python",
   "pygments_lexer": "ipython3",
   "version": "3.7.12"
  }
 },
 "nbformat": 4,
 "nbformat_minor": 5
}
