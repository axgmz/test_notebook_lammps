{
 "cells": [
  {
   "cell_type": "code",
   "execution_count": null,
   "id": "4cb21662",
   "metadata": {},
   "outputs": [],
   "source": [
    "import numpy as np\n",
    "import matplotlib.pyplot as plt\n",
    "%matplotlib inline\n",
    "\n",
    "import MDAnalysis as mda\n",
    "from MDAnalysis.analysis import msd\n",
    "from scipy.optimize import curve_fit"
   ]
  },
  {
   "cell_type": "code",
   "execution_count": null,
   "id": "59d510e2-9cc6-4bc6-8837-f5c3c94ae784",
   "metadata": {},
   "outputs": [],
   "source": [
    "mda_traj = mda.Universe(\"../1-SPCE_343-H2O/topology.pdb\", \"../1-SPCE_343-H2O/traj.xyz\", dt=0.01) # dt=0.01 ps\n",
    "mda_traj.dimensions = [21.725, 21.725, 21.725, 90, 90, 90] # PBC box : lx ly lz alpha beta gamma"
   ]
  },
  {
   "cell_type": "code",
   "execution_count": null,
   "id": "f1198512-26e7-4aa0-81b9-be7859de095d",
   "metadata": {},
   "outputs": [],
   "source": [
    "def all_coordinates_nameO(mda_object):\n",
    "    \"\"\"\n",
    "    Return a 3D array with coordinates of the oxygen atoms all over a trajectory processed via MDAnalysis\n",
    "    \"\"\"\n",
    "    list_atoms = mda_object.atoms.names\n",
    "    # Define boolean array for efficient selection\n",
    "    isO = np.array([list_atoms[i] == 'O' for i in range(mda_object.trajectory.n_atoms)])\n",
    "    nb_O = sum(isO)\n",
    "    c = np.zeros((mda_object.trajectory.n_frames,nb_O,3))\n",
    "    for i in range(mda_object.trajectory.n_frames):\n",
    "        c[i,:,:] = mda_object.trajectory[i].positions[isO]\n",
    "    return c\n",
    "\n",
    "def compute_MSD_Owater(mda_object, origin_sep = 100, cell_side = 21.725):\n",
    "    \"\"\" \n",
    "    Function for computing the MSD of water oxygen atoms over a trajectory processed via MDAnalysis.\\n\n",
    "    - mda_object: mda.Universe() object containing the trajectory\n",
    "    - origin_sep: number of time-steps between neigboring time-origins for msd calculation\n",
    "    - cell side: length of simulation cell side in same units as the trajectory\n",
    "    \"\"\"\n",
    "    # Store O atom coordinates only\n",
    "    coords = all_coordinates_nameO(mda_object)\n",
    "    \n",
    "    # Build array of displacements of every O atom between time-steps\n",
    "    diffpos = np.diff( coords, axis = 0 ) # for all t (axis = 0), all O (axis = 1), x(t+1)-x(t); y(t+1)-y(t); z(t+1)-z(t) (axis=3)\n",
    "\n",
    "    # Arrays that will be needed for msd:\n",
    "    msd_multiorigins = np.zeros(mda_object.trajectory.n_frames)\n",
    "    norm_msd_multiorigins = np.zeros(mda_object.trajectory.n_frames)\n",
    "    norm_msd_multiorigins[0] = 1 # prevent division by zero\n",
    "    \n",
    "    # Unwrap the trajectory by updating only too large adjacent frame differences:\n",
    "    diffpos[diffpos > cell_side/2] = diffpos[diffpos > cell_side/2] - cell_side\n",
    "    diffpos[diffpos < -cell_side/2] = diffpos[diffpos < -cell_side/2] + cell_side\n",
    "    \n",
    "    for t0 in range(0, mda_object.trajectory.n_frames, origin_sep):\n",
    "        displacement_t0 = np.cumsum(diffpos[t0:,:,:],axis=0)    # for all t after t0 (axis = 0), all O (axis = 1), x(t+1)-x(0); y(t+1)-y(0); z(t+1)-z(0) (axis=3)\n",
    "        sq_displacement_t0 = np.sum(displacement_t0**2,axis=-1) # for all t after t0 (axis = 0), |r(t+1) - r(0)|^2 of all O (axis = 1)\n",
    "        msd_t0 = np.mean(sq_displacement_t0, axis = 1)          # mean over all O\n",
    "        msd_multiorigins[1:msd_t0.shape[0]+1] += msd_t0\n",
    "        norm_msd_multiorigins[1:msd_t0.shape[0]+1] += 1\n",
    "    \n",
    "    msd = msd_multiorigins / norm_msd_multiorigins\n",
    "    return msd\n",
    "\n",
    "\n",
    "def f(t,d,a):\n",
    "    \"\"\"Einstein relation in 3D\"\"\"\n",
    "    return 6*d*t + a\n",
    "\n",
    "\n",
    "def plot_msd(msd, linear_fit, timestep = 0.01):\n",
    "    \"\"\" Plot MSD with linear fit and display diffusion coefficient \"\"\"\n",
    "    time = np.asarray([i*timestep for i in range(len(msd))])\n",
    "    \n",
    "    Fig, ax = plt.subplots(1,1, figsize=(12,8))\n",
    "    ax.plot(time , msd, c='tab:blue', ls='-', lw=2)\n",
    "    ax.plot(time, f(time, linear_fit[0], linear_fit[1]), c='red', ls='--', lw=1, label=f'D = {linear_fit[0]:.2f} '+r' $\\AA{}^2 \\cdot ps^{-1}$')\n",
    "    ax.set_xlabel(\"Time [ps]\", size=18)\n",
    "    ax.set_ylabel(\"MSD \"+r'[$\\AA{}^2$]', size=18)\n",
    "    ax.legend(prop={'size':18}, loc='best')\n",
    "    plt.xticks(size=16)\n",
    "    plt.yticks(size=16)\n",
    "    plt.grid()\n",
    "    plt.axhline(y=0, color='k')\n",
    "    plt.show()\n",
    "    return None"
   ]
  },
  {
   "cell_type": "code",
   "execution_count": null,
   "id": "c494f66a-e21a-475a-bb36-6377d55c3453",
   "metadata": {},
   "outputs": [],
   "source": [
    "msd = compute_MSD_Owater(mda_traj)\n",
    "\n",
    "timestep = 0.01 # ps\n",
    "start_fit = 2.0 # ps\n",
    "start_fit_idx = int(start_fit/timestep)\n",
    "\n",
    "linear_fit, _ = curve_fit(f, [timestep*i for i in range(len(msd))][start_fit_idx:], msd[start_fit_idx:], p0=[1,20])\n",
    "\n",
    "plot_msd(msd, linear_fit)"
   ]
  }
 ],
 "metadata": {
  "kernelspec": {
   "display_name": "Python 3 (ipykernel)",
   "language": "python",
   "name": "python3"
  },
  "language_info": {
   "codemirror_mode": {
    "name": "ipython",
    "version": 3
   },
   "file_extension": ".py",
   "mimetype": "text/x-python",
   "name": "python",
   "nbconvert_exporter": "python",
   "pygments_lexer": "ipython3",
   "version": "3.7.12"
  },
  "vscode": {
   "interpreter": {
    "hash": "37ba7e5c9582a9f421b36d7e546558219787a40efd52e9ce605c383361a6fbf8"
   }
  }
 },
 "nbformat": 4,
 "nbformat_minor": 5
}
